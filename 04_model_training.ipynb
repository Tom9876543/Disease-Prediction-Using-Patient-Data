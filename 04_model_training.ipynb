{
 "cells": [
  {
   "cell_type": "markdown",
   "id": "48c8974a",
   "metadata": {},
   "source": [
    "# Step 4 — Model Training (Logistic Regression & Random Forest)\n",
    "\n",
    "**Goals**\n",
    "- Load preprocessed Cleveland dataset (from Step 2)\n",
    "- Split data into train/test sets\n",
    "- Train Logistic Regression and Random Forest\n",
    "- Evaluate with **accuracy**\n",
    "- Compare models and select the better one\n"
   ]
  },
  {
   "cell_type": "code",
   "execution_count": 1,
   "id": "d5876747",
   "metadata": {},
   "outputs": [],
   "source": [
    "#import libraries\n",
    "import pandas as pd\n",
    "from sklearn.model_selection import train_test_split\n",
    "from sklearn.linear_model import LogisticRegression\n",
    "from sklearn.ensemble import RandomForestClassifier\n",
    "from sklearn.metrics import accuracy_score\n"
   ]
  },
  {
   "cell_type": "code",
   "execution_count": 2,
   "id": "8531be76",
   "metadata": {},
   "outputs": [
    {
     "name": "stdout",
     "output_type": "stream",
     "text": [
      "X shape: (303, 13)\n",
      "y distribution:\n",
      " 0    164\n",
      "1    139\n",
      "Name: target_bin, dtype: int64\n"
     ]
    }
   ],
   "source": [
    "#  4.1 — Load preprocessed data\n",
    "\n",
    "\n",
    "df = pd.read_csv(\"../data/cleveland.csv\", header=None)\n",
    "df.columns = [\n",
    "    \"age\",\"sex\",\"cp\",\"trestbps\",\"chol\",\"fbs\",\"restecg\",\n",
    "    \"thalach\",\"exang\",\"oldpeak\",\"slope\",\"ca\",\"thal\",\"target\"\n",
    "]\n",
    "df = df.replace(\"?\", pd.NA)\n",
    "for c in df.columns:\n",
    "    df[c] = pd.to_numeric(df[c], errors=\"coerce\")\n",
    "\n",
    "# Impute\n",
    "from sklearn.impute import SimpleImputer\n",
    "from sklearn.preprocessing import MinMaxScaler\n",
    "\n",
    "mode_imputer = SimpleImputer(strategy=\"most_frequent\")\n",
    "df[[\"ca\",\"thal\"]] = mode_imputer.fit_transform(df[[\"ca\",\"thal\"]])\n",
    "\n",
    "median_imputer = SimpleImputer(strategy=\"median\")\n",
    "num_cols = df.columns.drop(\"target\")\n",
    "df[num_cols] = median_imputer.fit_transform(df[num_cols])\n",
    "\n",
    "# Scale\n",
    "scaler = MinMaxScaler()\n",
    "df[num_cols] = scaler.fit_transform(df[num_cols])\n",
    "\n",
    "# Binary target\n",
    "df[\"target_bin\"] = (df[\"target\"] > 0).astype(int)\n",
    "\n",
    "X = df.drop(columns=[\"target\", \"target_bin\"])\n",
    "y = df[\"target_bin\"]\n",
    "\n",
    "print(\"X shape:\", X.shape)\n",
    "print(\"y distribution:\\n\", y.value_counts())\n"
   ]
  },
  {
   "cell_type": "code",
   "execution_count": 3,
   "id": "4dfe40d3",
   "metadata": {},
   "outputs": [
    {
     "name": "stdout",
     "output_type": "stream",
     "text": [
      "Train size: (242, 13)  Test size: (61, 13)\n"
     ]
    }
   ],
   "source": [
    "# 4.2 — Train/test split\n",
    "X_train, X_test, y_train, y_test = train_test_split(\n",
    "    X, y, test_size=0.2, random_state=42, stratify=y\n",
    ")\n",
    "\n",
    "print(\"Train size:\", X_train.shape, \" Test size:\", X_test.shape)\n",
    "\n"
   ]
  },
  {
   "cell_type": "code",
   "execution_count": 4,
   "id": "79f92063",
   "metadata": {},
   "outputs": [
    {
     "name": "stdout",
     "output_type": "stream",
     "text": [
      "Logistic Regression Accuracy: 0.8525\n",
      "Random Forest Accuracy:      0.9016\n",
      "\n",
      "Selected model (by accuracy): Random Forest\n"
     ]
    }
   ],
   "source": [
    "# 4.3 — Train Logistic Regression & Random Forest\n",
    "# Logistic Regression\n",
    "log = LogisticRegression(max_iter=1000)\n",
    "log.fit(X_train, y_train)\n",
    "log_pred = log.predict(X_test)\n",
    "log_acc = accuracy_score(y_test, log_pred)\n",
    "\n",
    "# Random Forest\n",
    "rf = RandomForestClassifier(random_state=42)\n",
    "rf.fit(X_train, y_train)\n",
    "rf_pred = rf.predict(X_test)\n",
    "rf_acc = accuracy_score(y_test, rf_pred)\n",
    "\n",
    "print(f\"Logistic Regression Accuracy: {log_acc:.4f}\")\n",
    "print(f\"Random Forest Accuracy:      {rf_acc:.4f}\")\n",
    "\n",
    "best = \"Random Forest\" if rf_acc >= log_acc else \"Logistic Regression\"\n",
    "print(f\"\\nSelected model (by accuracy): {best}\")\n"
   ]
  },
  {
   "cell_type": "markdown",
   "id": "474ac27e",
   "metadata": {},
   "source": [
    "## 4.4 — Interpretation\n",
    "\n",
    "- **Logistic Regression Accuracy:** 0.8525  \n",
    "- **Random Forest Accuracy:** 0.9016  \n",
    "- **Selected model (by accuracy):** Random Forest  \n",
    "\n",
    "**Notes**\n",
    "- Random Forest outperformed Logistic Regression by ~5% in accuracy.\n",
    "- Since the dataset is fairly balanced (54% vs 46%), accuracy is a reasonable metric here.\n",
    "- However, for medical prediction tasks, it is recommended to also evaluate:\n",
    "  - **Precision** (to minimize false positives)\n",
    "  - **Recall** (to minimize false negatives, very important in healthcare)\n",
    "  - **F1-score** (balance of precision and recall)\n",
    "- Next step: extend evaluation with these metrics to ensure robustness.\n"
   ]
  }
 ],
 "metadata": {
  "kernelspec": {
   "display_name": "base",
   "language": "python",
   "name": "python3"
  },
  "language_info": {
   "codemirror_mode": {
    "name": "ipython",
    "version": 3
   },
   "file_extension": ".py",
   "mimetype": "text/x-python",
   "name": "python",
   "nbconvert_exporter": "python",
   "pygments_lexer": "ipython3",
   "version": "3.9.12"
  }
 },
 "nbformat": 4,
 "nbformat_minor": 5
}
